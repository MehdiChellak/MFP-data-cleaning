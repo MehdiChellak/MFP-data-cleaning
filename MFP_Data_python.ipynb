{
 "cells": [
  {
   "cell_type": "code",
   "execution_count": 109,
   "id": "3f91e0f6-50cf-4b36-ac70-5c0e4c13f85c",
   "metadata": {},
   "outputs": [],
   "source": [
    "import pandas as pd"
   ]
  },
  {
   "cell_type": "code",
   "execution_count": 110,
   "id": "3b2df5b5-d19f-4574-b374-8ad7ee180c9b",
   "metadata": {},
   "outputs": [],
   "source": [
    "data_siege  = pd.read_excel('./imp (1).xlsx')\n",
    "data_user = pd.read_excel('./Users 2023.xlsx')"
   ]
  },
  {
   "cell_type": "code",
   "execution_count": 111,
   "id": "4254f51d-f318-4b23-9b18-c487d9077b7c",
   "metadata": {},
   "outputs": [],
   "source": [
    "data_siege['user_name'] = data_siege['user_name'].str.lower()\n",
    "data_user['user_name'] = data_user['user_name'].str.lower()"
   ]
  },
  {
   "cell_type": "code",
   "execution_count": 112,
   "id": "cff5b0d8-8da7-4a3a-b52a-fec032c9e988",
   "metadata": {},
   "outputs": [],
   "source": [
    "data_siege['date_ts'] = pd.to_datetime(data_siege['DATE'])"
   ]
  },
  {
   "cell_type": "code",
   "execution_count": 113,
   "id": "9ac95d1f-d733-4aad-ae1d-036d4686006f",
   "metadata": {},
   "outputs": [
    {
     "data": {
      "text/html": [
       "<div>\n",
       "<style scoped>\n",
       "    .dataframe tbody tr th:only-of-type {\n",
       "        vertical-align: middle;\n",
       "    }\n",
       "\n",
       "    .dataframe tbody tr th {\n",
       "        vertical-align: top;\n",
       "    }\n",
       "\n",
       "    .dataframe thead th {\n",
       "        text-align: right;\n",
       "    }\n",
       "</style>\n",
       "<table border=\"1\" class=\"dataframe\">\n",
       "  <thead>\n",
       "    <tr style=\"text-align: right;\">\n",
       "      <th></th>\n",
       "      <th>user_name</th>\n",
       "      <th>User - login</th>\n",
       "      <th>B/W pages</th>\n",
       "      <th>Color pages</th>\n",
       "      <th>DATE</th>\n",
       "      <th>date_ts</th>\n",
       "    </tr>\n",
       "  </thead>\n",
       "  <tbody>\n",
       "    <tr>\n",
       "      <th>0</th>\n",
       "      <td>outmane nourman</td>\n",
       "      <td>onourman</td>\n",
       "      <td>0</td>\n",
       "      <td>0</td>\n",
       "      <td>2021-04-01 00:00:00.000</td>\n",
       "      <td>2021-04-01</td>\n",
       "    </tr>\n",
       "    <tr>\n",
       "      <th>1</th>\n",
       "      <td>khadija bahammou</td>\n",
       "      <td>u369bahammok</td>\n",
       "      <td>198</td>\n",
       "      <td>136</td>\n",
       "      <td>2021-04-01 00:00:00.000</td>\n",
       "      <td>2021-04-01</td>\n",
       "    </tr>\n",
       "    <tr>\n",
       "      <th>2</th>\n",
       "      <td>issam tssouli</td>\n",
       "      <td>itssouli</td>\n",
       "      <td>397</td>\n",
       "      <td>0</td>\n",
       "      <td>2021-04-01 00:00:00.000</td>\n",
       "      <td>2021-04-01</td>\n",
       "    </tr>\n",
       "    <tr>\n",
       "      <th>3</th>\n",
       "      <td>ghizlane ouakrim</td>\n",
       "      <td>gouakrim</td>\n",
       "      <td>115</td>\n",
       "      <td>264</td>\n",
       "      <td>2021-04-01 00:00:00.000</td>\n",
       "      <td>2021-04-01</td>\n",
       "    </tr>\n",
       "    <tr>\n",
       "      <th>4</th>\n",
       "      <td>mounir nessassi</td>\n",
       "      <td>mnessass</td>\n",
       "      <td>179</td>\n",
       "      <td>168</td>\n",
       "      <td>2021-04-01 00:00:00.000</td>\n",
       "      <td>2021-04-01</td>\n",
       "    </tr>\n",
       "  </tbody>\n",
       "</table>\n",
       "</div>"
      ],
      "text/plain": [
       "          user_name  User - login  B/W pages  Color pages  \\\n",
       "0   outmane nourman      onourman          0            0   \n",
       "1  khadija bahammou  u369bahammok        198          136   \n",
       "2     issam tssouli      itssouli        397            0   \n",
       "3  ghizlane ouakrim      gouakrim        115          264   \n",
       "4   mounir nessassi      mnessass        179          168   \n",
       "\n",
       "                      DATE    date_ts  \n",
       "0  2021-04-01 00:00:00.000 2021-04-01  \n",
       "1  2021-04-01 00:00:00.000 2021-04-01  \n",
       "2  2021-04-01 00:00:00.000 2021-04-01  \n",
       "3  2021-04-01 00:00:00.000 2021-04-01  \n",
       "4  2021-04-01 00:00:00.000 2021-04-01  "
      ]
     },
     "execution_count": 113,
     "metadata": {},
     "output_type": "execute_result"
    }
   ],
   "source": [
    "data_siege.head()"
   ]
  },
  {
   "cell_type": "markdown",
   "id": "f1fb0ba7-7b18-46e1-8809-7a5cce734d5f",
   "metadata": {},
   "source": [
    "## Extract year et ville "
   ]
  },
  {
   "cell_type": "code",
   "execution_count": 118,
   "id": "c78d2a50-b30a-4045-8604-091aebe850f8",
   "metadata": {},
   "outputs": [],
   "source": [
    "data_siege['year'] = data_siege.apply(lambda row: row['DATE'][0:4], axis=1)\n",
    "data_user['ville']= data_user['Site'].str.lower().str.split('/').str[1].str.lstrip()"
   ]
  },
  {
   "cell_type": "code",
   "execution_count": 119,
   "id": "9acb0c1c-1802-4f13-b078-67e4f5197024",
   "metadata": {},
   "outputs": [
    {
     "data": {
      "text/html": [
       "<div>\n",
       "<style scoped>\n",
       "    .dataframe tbody tr th:only-of-type {\n",
       "        vertical-align: middle;\n",
       "    }\n",
       "\n",
       "    .dataframe tbody tr th {\n",
       "        vertical-align: top;\n",
       "    }\n",
       "\n",
       "    .dataframe thead th {\n",
       "        text-align: right;\n",
       "    }\n",
       "</style>\n",
       "<table border=\"1\" class=\"dataframe\">\n",
       "  <thead>\n",
       "    <tr style=\"text-align: right;\">\n",
       "      <th></th>\n",
       "      <th>user_name</th>\n",
       "      <th>User - login</th>\n",
       "      <th>B/W pages</th>\n",
       "      <th>Color pages</th>\n",
       "      <th>DATE</th>\n",
       "      <th>date_ts</th>\n",
       "      <th>year</th>\n",
       "    </tr>\n",
       "  </thead>\n",
       "  <tbody>\n",
       "    <tr>\n",
       "      <th>6794</th>\n",
       "      <td>asmaa lamrabet</td>\n",
       "      <td>alamrabe</td>\n",
       "      <td>0</td>\n",
       "      <td>0</td>\n",
       "      <td>2023-04-01 00:00:00.000</td>\n",
       "      <td>2023-04-01</td>\n",
       "      <td>2023</td>\n",
       "    </tr>\n",
       "    <tr>\n",
       "      <th>6795</th>\n",
       "      <td>mouad moubtakir</td>\n",
       "      <td>mmoubta</td>\n",
       "      <td>0</td>\n",
       "      <td>0</td>\n",
       "      <td>2023-04-01 00:00:00.000</td>\n",
       "      <td>2023-04-01</td>\n",
       "      <td>2023</td>\n",
       "    </tr>\n",
       "    <tr>\n",
       "      <th>6796</th>\n",
       "      <td>nador scale1</td>\n",
       "      <td>nscale1</td>\n",
       "      <td>0</td>\n",
       "      <td>0</td>\n",
       "      <td>2023-04-01 00:00:00.000</td>\n",
       "      <td>2023-04-01</td>\n",
       "      <td>2023</td>\n",
       "    </tr>\n",
       "    <tr>\n",
       "      <th>6797</th>\n",
       "      <td>brahim belaouni</td>\n",
       "      <td>bbelaoun</td>\n",
       "      <td>1</td>\n",
       "      <td>0</td>\n",
       "      <td>2023-04-01 00:00:00.000</td>\n",
       "      <td>2023-04-01</td>\n",
       "      <td>2023</td>\n",
       "    </tr>\n",
       "    <tr>\n",
       "      <th>6798</th>\n",
       "      <td>sdc nador</td>\n",
       "      <td>snador</td>\n",
       "      <td>1</td>\n",
       "      <td>0</td>\n",
       "      <td>2023-04-01 00:00:00.000</td>\n",
       "      <td>2023-04-01</td>\n",
       "      <td>2023</td>\n",
       "    </tr>\n",
       "  </tbody>\n",
       "</table>\n",
       "</div>"
      ],
      "text/plain": [
       "            user_name User - login  B/W pages  Color pages  \\\n",
       "6794   asmaa lamrabet     alamrabe          0            0   \n",
       "6795  mouad moubtakir      mmoubta          0            0   \n",
       "6796     nador scale1      nscale1          0            0   \n",
       "6797  brahim belaouni     bbelaoun          1            0   \n",
       "6798        sdc nador       snador          1            0   \n",
       "\n",
       "                         DATE    date_ts  year  \n",
       "6794  2023-04-01 00:00:00.000 2023-04-01  2023  \n",
       "6795  2023-04-01 00:00:00.000 2023-04-01  2023  \n",
       "6796  2023-04-01 00:00:00.000 2023-04-01  2023  \n",
       "6797  2023-04-01 00:00:00.000 2023-04-01  2023  \n",
       "6798  2023-04-01 00:00:00.000 2023-04-01  2023  "
      ]
     },
     "execution_count": 119,
     "metadata": {},
     "output_type": "execute_result"
    }
   ],
   "source": [
    "data_siege.tail()"
   ]
  },
  {
   "cell_type": "code",
   "execution_count": 120,
   "id": "44d2b7d2-fa2f-40e6-988b-3f9cdbfa72e3",
   "metadata": {},
   "outputs": [
    {
     "data": {
      "text/html": [
       "<div>\n",
       "<style scoped>\n",
       "    .dataframe tbody tr th:only-of-type {\n",
       "        vertical-align: middle;\n",
       "    }\n",
       "\n",
       "    .dataframe tbody tr th {\n",
       "        vertical-align: top;\n",
       "    }\n",
       "\n",
       "    .dataframe thead th {\n",
       "        text-align: right;\n",
       "    }\n",
       "</style>\n",
       "<table border=\"1\" class=\"dataframe\">\n",
       "  <thead>\n",
       "    <tr style=\"text-align: right;\">\n",
       "      <th></th>\n",
       "      <th>user_name</th>\n",
       "      <th>Departement</th>\n",
       "      <th>Site</th>\n",
       "      <th>ville</th>\n",
       "    </tr>\n",
       "  </thead>\n",
       "  <tbody>\n",
       "    <tr>\n",
       "      <th>0</th>\n",
       "      <td>lamya chaqri</td>\n",
       "      <td>Juridique</td>\n",
       "      <td>MAR/Casablanca/621, boulevard Panoramique, 20150</td>\n",
       "      <td>casablanca</td>\n",
       "    </tr>\n",
       "    <tr>\n",
       "      <th>1</th>\n",
       "      <td>youssef nejd</td>\n",
       "      <td>DT - Administration</td>\n",
       "      <td>MAR/Marrakech/Marrakech, Tensift, El Haouz, KM...</td>\n",
       "      <td>marrakech</td>\n",
       "    </tr>\n",
       "    <tr>\n",
       "      <th>2</th>\n",
       "      <td>mohammed qanoune</td>\n",
       "      <td>DT - Production</td>\n",
       "      <td>MAR/Safi/Route Had Hrara, B.P. 29</td>\n",
       "      <td>safi</td>\n",
       "    </tr>\n",
       "    <tr>\n",
       "      <th>3</th>\n",
       "      <td>soufiane ait lahcene</td>\n",
       "      <td>DAF - Informatique</td>\n",
       "      <td>MAR/Casablanca/621, boulevard Panoramique, 20150</td>\n",
       "      <td>casablanca</td>\n",
       "    </tr>\n",
       "    <tr>\n",
       "      <th>4</th>\n",
       "      <td>indusaha scale 1</td>\n",
       "      <td>DT - Production</td>\n",
       "      <td>MAR/ Laayoune/Route Du Port Laayoune</td>\n",
       "      <td>laayoune</td>\n",
       "    </tr>\n",
       "  </tbody>\n",
       "</table>\n",
       "</div>"
      ],
      "text/plain": [
       "              user_name          Departement  \\\n",
       "0          lamya chaqri            Juridique   \n",
       "1          youssef nejd  DT - Administration   \n",
       "2      mohammed qanoune      DT - Production   \n",
       "3  soufiane ait lahcene   DAF - Informatique   \n",
       "4      indusaha scale 1      DT - Production   \n",
       "\n",
       "                                                Site       ville  \n",
       "0   MAR/Casablanca/621, boulevard Panoramique, 20150  casablanca  \n",
       "1  MAR/Marrakech/Marrakech, Tensift, El Haouz, KM...   marrakech  \n",
       "2                  MAR/Safi/Route Had Hrara, B.P. 29        safi  \n",
       "3   MAR/Casablanca/621, boulevard Panoramique, 20150  casablanca  \n",
       "4               MAR/ Laayoune/Route Du Port Laayoune    laayoune  "
      ]
     },
     "execution_count": 120,
     "metadata": {},
     "output_type": "execute_result"
    }
   ],
   "source": [
    "data_user.head()"
   ]
  },
  {
   "cell_type": "code",
   "execution_count": 121,
   "id": "1055ccfd-5b12-49b5-9139-53de1b56c8db",
   "metadata": {},
   "outputs": [
    {
     "data": {
      "text/html": [
       "<div>\n",
       "<style scoped>\n",
       "    .dataframe tbody tr th:only-of-type {\n",
       "        vertical-align: middle;\n",
       "    }\n",
       "\n",
       "    .dataframe tbody tr th {\n",
       "        vertical-align: top;\n",
       "    }\n",
       "\n",
       "    .dataframe thead th {\n",
       "        text-align: right;\n",
       "    }\n",
       "</style>\n",
       "<table border=\"1\" class=\"dataframe\">\n",
       "  <thead>\n",
       "    <tr style=\"text-align: right;\">\n",
       "      <th></th>\n",
       "      <th>user_name</th>\n",
       "      <th>User - login</th>\n",
       "      <th>B/W pages</th>\n",
       "      <th>Color pages</th>\n",
       "      <th>DATE</th>\n",
       "      <th>date_ts</th>\n",
       "      <th>year</th>\n",
       "      <th>Departement</th>\n",
       "      <th>Site</th>\n",
       "      <th>ville</th>\n",
       "    </tr>\n",
       "  </thead>\n",
       "  <tbody>\n",
       "    <tr>\n",
       "      <th>0</th>\n",
       "      <td>outmane nourman</td>\n",
       "      <td>onourman</td>\n",
       "      <td>0</td>\n",
       "      <td>0</td>\n",
       "      <td>2021-04-01 00:00:00.000</td>\n",
       "      <td>2021-04-01</td>\n",
       "      <td>2021</td>\n",
       "      <td>DT - Administration</td>\n",
       "      <td>MAR/Marrakech/Marrakech, Tensift, El Haouz, KM...</td>\n",
       "      <td>marrakech</td>\n",
       "    </tr>\n",
       "    <tr>\n",
       "      <th>1</th>\n",
       "      <td>outmane nourman</td>\n",
       "      <td>onourman</td>\n",
       "      <td>190</td>\n",
       "      <td>2</td>\n",
       "      <td>2021-05-01 00:00:00.000</td>\n",
       "      <td>2021-05-01</td>\n",
       "      <td>2021</td>\n",
       "      <td>DT - Administration</td>\n",
       "      <td>MAR/Marrakech/Marrakech, Tensift, El Haouz, KM...</td>\n",
       "      <td>marrakech</td>\n",
       "    </tr>\n",
       "    <tr>\n",
       "      <th>2</th>\n",
       "      <td>outmane nourman</td>\n",
       "      <td>onourman</td>\n",
       "      <td>0</td>\n",
       "      <td>10</td>\n",
       "      <td>2021-06-01 00:00:00.000</td>\n",
       "      <td>2021-06-01</td>\n",
       "      <td>2021</td>\n",
       "      <td>DT - Administration</td>\n",
       "      <td>MAR/Marrakech/Marrakech, Tensift, El Haouz, KM...</td>\n",
       "      <td>marrakech</td>\n",
       "    </tr>\n",
       "    <tr>\n",
       "      <th>3</th>\n",
       "      <td>outmane nourman</td>\n",
       "      <td>onourman</td>\n",
       "      <td>23</td>\n",
       "      <td>0</td>\n",
       "      <td>2021-07-01 00:00:00.000</td>\n",
       "      <td>2021-07-01</td>\n",
       "      <td>2021</td>\n",
       "      <td>DT - Administration</td>\n",
       "      <td>MAR/Marrakech/Marrakech, Tensift, El Haouz, KM...</td>\n",
       "      <td>marrakech</td>\n",
       "    </tr>\n",
       "    <tr>\n",
       "      <th>4</th>\n",
       "      <td>outmane nourman</td>\n",
       "      <td>onourman</td>\n",
       "      <td>0</td>\n",
       "      <td>2</td>\n",
       "      <td>2021-08-01 00:00:00.000</td>\n",
       "      <td>2021-08-01</td>\n",
       "      <td>2021</td>\n",
       "      <td>DT - Administration</td>\n",
       "      <td>MAR/Marrakech/Marrakech, Tensift, El Haouz, KM...</td>\n",
       "      <td>marrakech</td>\n",
       "    </tr>\n",
       "  </tbody>\n",
       "</table>\n",
       "</div>"
      ],
      "text/plain": [
       "         user_name User - login  B/W pages  Color pages  \\\n",
       "0  outmane nourman     onourman          0            0   \n",
       "1  outmane nourman     onourman        190            2   \n",
       "2  outmane nourman     onourman          0           10   \n",
       "3  outmane nourman     onourman         23            0   \n",
       "4  outmane nourman     onourman          0            2   \n",
       "\n",
       "                      DATE    date_ts  year          Departement  \\\n",
       "0  2021-04-01 00:00:00.000 2021-04-01  2021  DT - Administration   \n",
       "1  2021-05-01 00:00:00.000 2021-05-01  2021  DT - Administration   \n",
       "2  2021-06-01 00:00:00.000 2021-06-01  2021  DT - Administration   \n",
       "3  2021-07-01 00:00:00.000 2021-07-01  2021  DT - Administration   \n",
       "4  2021-08-01 00:00:00.000 2021-08-01  2021  DT - Administration   \n",
       "\n",
       "                                                Site      ville  \n",
       "0  MAR/Marrakech/Marrakech, Tensift, El Haouz, KM...  marrakech  \n",
       "1  MAR/Marrakech/Marrakech, Tensift, El Haouz, KM...  marrakech  \n",
       "2  MAR/Marrakech/Marrakech, Tensift, El Haouz, KM...  marrakech  \n",
       "3  MAR/Marrakech/Marrakech, Tensift, El Haouz, KM...  marrakech  \n",
       "4  MAR/Marrakech/Marrakech, Tensift, El Haouz, KM...  marrakech  "
      ]
     },
     "execution_count": 121,
     "metadata": {},
     "output_type": "execute_result"
    }
   ],
   "source": [
    "merged_data.head()"
   ]
  },
  {
   "cell_type": "code",
   "execution_count": 122,
   "id": "ad775c6b-7b61-4ab9-bdca-e8ec55861b8e",
   "metadata": {},
   "outputs": [],
   "source": [
    "def affichage(data):\n",
    "    print(\"Ce affichage concerne le data SafeQ\")\n",
    "    print(\"Blanc et noir:\",data['B/W pages'].sum())\n",
    "    print(\"couleur:\",data['Color pages'].sum())\n",
    "    print(\"la somme:\",data['B/W pages'].sum() + data['Color pages'].sum())"
   ]
  },
  {
   "cell_type": "markdown",
   "id": "c38b288a-e2c5-4f37-96d8-87bb0b01dc8a",
   "metadata": {},
   "source": [
    "## Siege et 2022"
   ]
  },
  {
   "cell_type": "code",
   "execution_count": 125,
   "id": "36101320-b2cf-4b13-b4d2-e30f605b1ea9",
   "metadata": {},
   "outputs": [
    {
     "name": "stdout",
     "output_type": "stream",
     "text": [
      "user_name       6799\n",
      "User - login    6799\n",
      "B/W pages       6799\n",
      "Color pages     6799\n",
      "DATE            6799\n",
      "date_ts         6799\n",
      "year            6799\n",
      "Departement     6799\n",
      "Site            6799\n",
      "ville           6794\n",
      "dtype: int64\n",
      "117317\n",
      "109288\n",
      "226605\n"
     ]
    }
   ],
   "source": [
    "merged_data = pd.merge(data_siege, data_user, on='user_name', how='inner')\n",
    "print(merged_data.count())\n",
    "merged_data = merged_data[(merged_data['Site'] == 'MAR/Casablanca/621, boulevard Panoramique, 20150') & (merged_data['year'] == '2022') ]\n",
    "print(merged_data['B/W pages'].sum())\n",
    "print(merged_data['Color pages'].sum())\n",
    "print(merged_data['B/W pages'].sum() + merged_data['Color pages'].sum())"
   ]
  },
  {
   "cell_type": "code",
   "execution_count": 126,
   "id": "7228cfcb-723e-459e-b23c-b6f916bc88ec",
   "metadata": {},
   "outputs": [
    {
     "name": "stdout",
     "output_type": "stream",
     "text": [
      "Ce affichage concerne le data SafeQ\n",
      "Blanc et noir: 388417\n",
      "couleur: 221218\n",
      "la somme: 609635\n"
     ]
    }
   ],
   "source": [
    "merged_data = pd.merge(data_siege, data_user, on='user_name', how='inner')\n",
    "merged_data = merged_data[ (merged_data['year'] == '2022')]\n",
    "affichage(merged_data)"
   ]
  },
  {
   "cell_type": "markdown",
   "id": "a2d81329-f475-4a5e-ba1e-123a2bbb78ce",
   "metadata": {},
   "source": []
  },
  {
   "cell_type": "code",
   "execution_count": 127,
   "id": "849f618f-61fb-4be9-b33b-48588120dce4",
   "metadata": {},
   "outputs": [
    {
     "name": "stdout",
     "output_type": "stream",
     "text": [
      "['casablanca' 'marrakech' 'safi' 'laayoune' 'nador' 'jorf' 'rabat'\n",
      " 'jorf lasfar' 'ait baha' 'agadir' 'agadir tassila' 'berrechid'\n",
      " 'benslimane' 'ain atiq' 'el jadida' 'oulad aabbou' 'notfound' nan\n",
      " 'indusaha']\n"
     ]
    }
   ],
   "source": [
    "print(data_user['ville'].unique())"
   ]
  },
  {
   "cell_type": "code",
   "execution_count": 128,
   "id": "a39be35b-ce87-460d-a0ac-751e6a550839",
   "metadata": {},
   "outputs": [
    {
     "name": "stdout",
     "output_type": "stream",
     "text": [
      "user_name       6799\n",
      "User - login    6799\n",
      "B/W pages       6799\n",
      "Color pages     6799\n",
      "DATE            6799\n",
      "date_ts         6799\n",
      "year            6799\n",
      "Departement     6799\n",
      "Site            6799\n",
      "ville           6794\n",
      "dtype: int64\n"
     ]
    }
   ],
   "source": [
    "merged_data = pd.merge(data_siege, data_user, on='user_name', how='inner')\n",
    "print(merged_data.count())"
   ]
  },
  {
   "cell_type": "markdown",
   "id": "ccb47ad1-26ae-461e-9fee-508377f234d4",
   "metadata": {},
   "source": [
    "## Trimestre data SafeQ"
   ]
  },
  {
   "cell_type": "code",
   "execution_count": 129,
   "id": "e13345d9-1d0c-48ee-a1ed-ff780bc0da89",
   "metadata": {},
   "outputs": [
    {
     "name": "stdout",
     "output_type": "stream",
     "text": [
      "Ce affichage concerne le data SafeQ\n",
      "Blanc et noir: 25275\n",
      "couleur: 12262\n",
      "la somme: 37537\n"
     ]
    }
   ],
   "source": [
    "start_date = pd.to_datetime('2023-01-01') \n",
    "end_date = pd.to_datetime('2023-03-31')\n",
    "trimester_data = merged_data[(merged_data['date_ts'] >= start_date) & (merged_data['date_ts'] <= end_date) & (merged_data['ville'] <= 'casablanca')]\n",
    "affichage(trimester_data)"
   ]
  },
  {
   "cell_type": "markdown",
   "id": "313ebfed-4bc8-44f3-b6c9-c2d0e84f946f",
   "metadata": {},
   "source": [
    "## User verification"
   ]
  },
  {
   "cell_type": "code",
   "execution_count": 130,
   "id": "c635cb0f-53ad-49ff-97ca-8f35a0457317",
   "metadata": {},
   "outputs": [
    {
     "name": "stdout",
     "output_type": "stream",
     "text": [
      "Users in df1 not in df2:\n",
      "[]\n"
     ]
    }
   ],
   "source": [
    "df1 = data_siege\n",
    "df2 = data_user\n",
    "users_in_df1_not_in_df2 = df1[~df1['user_name'].isin(df2['user_name'])]\n",
    "print(\"Users in df1 not in df2:\")\n",
    "print(users_in_df1_not_in_df2['user_name'].unique())"
   ]
  },
  {
   "cell_type": "markdown",
   "id": "54e2d09b-939d-4e68-ab35-09ddfea4f78f",
   "metadata": {},
   "source": [
    "## Filtrage par date"
   ]
  },
  {
   "cell_type": "code",
   "execution_count": 131,
   "id": "5a470fa0-ce37-4793-ab7c-bba1f6a71a84",
   "metadata": {},
   "outputs": [],
   "source": [
    "first_date = pd.to_datetime('2022-12-01') "
   ]
  },
  {
   "cell_type": "code",
   "execution_count": 132,
   "id": "a06a5e28-1edd-4fff-b200-8bb71dc58eb1",
   "metadata": {},
   "outputs": [
    {
     "name": "stdout",
     "output_type": "stream",
     "text": [
      "Ce affichage concerne le data SafeQ\n",
      "Blanc et noir: 41973\n",
      "couleur: 15235\n",
      "la somme: 57208\n"
     ]
    }
   ],
   "source": [
    "data_at_first_date = merged_data[(merged_data['date_ts'] == first_date)]\n",
    "affichage(data_at_first_date)"
   ]
  },
  {
   "cell_type": "markdown",
   "id": "da43bd22-8cc3-442f-a0e8-ab65e6279666",
   "metadata": {},
   "source": [
    "## Concatenation of data in python"
   ]
  }
 ],
 "metadata": {
  "kernelspec": {
   "display_name": "Python 3 (ipykernel)",
   "language": "python",
   "name": "python3"
  },
  "language_info": {
   "codemirror_mode": {
    "name": "ipython",
    "version": 3
   },
   "file_extension": ".py",
   "mimetype": "text/x-python",
   "name": "python",
   "nbconvert_exporter": "python",
   "pygments_lexer": "ipython3",
   "version": "3.10.9"
  }
 },
 "nbformat": 4,
 "nbformat_minor": 5
}
